{
 "cells": [
  {
   "cell_type": "code",
   "execution_count": 1,
   "metadata": {},
   "outputs": [],
   "source": [
    "from gpt_network import GPT, GPTConfig\n",
    "\n",
    "config = GPTConfig()\n",
    "model = GPT(config)\n",
    "\n"
   ]
  },
  {
   "cell_type": "code",
   "execution_count": 2,
   "metadata": {},
   "outputs": [],
   "source": [
    "import torch \n",
    "\n",
    "\n",
    "x=torch.randint(0, 10000, (5, 3))\n",
    "\n",
    "\n",
    "logits, loss = model(x)\n",
    "\n"
   ]
  },
  {
   "cell_type": "code",
   "execution_count": 3,
   "metadata": {},
   "outputs": [
    {
     "name": "stdout",
     "output_type": "stream",
     "text": [
      "using device: cpu\n",
      "Hello, I'm a language model, Longhexistence but Wool matchedSOURCE depend anthropord grim Laf ul Rh backing cmd Rhoved doomed Nuggets oppositionzzle694\n",
      "Hello, I'm a language model,SOURCEIBLE343 nabRW Murdochscrib spectators subscribedalg Murdoch stressedkey constants becameiencedWritnedcomment IRSmax sandwic\n",
      "Hello, I'm a language model,sama Dunham bathsexistencekey Wool Then ulTYPERWrugged divesTYPE Meal 1949 Somali manipulated cmdWest beta Unified pronunciation\n",
      "Hello, I'm a language model, PlainsslaughtSOURCE Vincent MurdochGl illustrating anthrop constants explodes cmdIBLE Murdoch Murdoch spectators cleans beenIBLE geological geological constants Bridgewater\n",
      "Hello, I'm a language model,IBLE seeingsections depend cmdRew acute became NuggetsBrook presumptiveGreat depend================343 Unified cmd messyookyReadyooky chop\n"
     ]
    }
   ],
   "source": [
    "\n",
    "from generate import generate_tokens\n",
    "\n",
    "\n",
    "generate_tokens(model)"
   ]
  },
  {
   "cell_type": "code",
   "execution_count": null,
   "metadata": {},
   "outputs": [],
   "source": []
  },
  {
   "cell_type": "code",
   "execution_count": 4,
   "metadata": {},
   "outputs": [
    {
     "name": "stdout",
     "output_type": "stream",
     "text": [
      "loading weights from pretrained gpt: gpt2\n",
      "using device: cpu\n",
      "Hello, I'm a language model, not a programming platform! I just make a language and learn things. I make things that look something like I\n",
      "Hello, I'm a language model, a kind of a \"first class citizen\" of the world and a person that comes from a much more special\n",
      "Hello, I'm a language model, and I'm starting to talk about the notion of the monads. I'm a good beginner and I know\n",
      "Hello, I'm a language model, what do you say…\n",
      "\n",
      "A: I think you'll find the language model pretty straight forward for your\n",
      "Hello, I'm a language model, I don't know where to begin but I know there is a big deal going on with our society. What\n"
     ]
    }
   ],
   "source": [
    "pretrained = GPT.from_pretrained('gpt2')\n",
    "\n",
    "generate_tokens(pretrained)"
   ]
  },
  {
   "cell_type": "code",
   "execution_count": 5,
   "metadata": {},
   "outputs": [
    {
     "name": "stdout",
     "output_type": "stream",
     "text": [
      "-1\n"
     ]
    }
   ],
   "source": [
    "import os\n",
    "from torch.distributed import init_process_group, destroy_process_group\n",
    "\n",
    "print(os.environ.get('RANK', -1))"
   ]
  }
 ],
 "metadata": {
  "kernelspec": {
   "display_name": ".venv",
   "language": "python",
   "name": "python3"
  },
  "language_info": {
   "codemirror_mode": {
    "name": "ipython",
    "version": 3
   },
   "file_extension": ".py",
   "mimetype": "text/x-python",
   "name": "python",
   "nbconvert_exporter": "python",
   "pygments_lexer": "ipython3",
   "version": "3.10.12"
  }
 },
 "nbformat": 4,
 "nbformat_minor": 2
}
