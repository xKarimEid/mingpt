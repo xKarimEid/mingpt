{
 "cells": [
  {
   "cell_type": "code",
   "execution_count": 1,
   "metadata": {},
   "outputs": [],
   "source": [
    "from gpt_network import GPT, GPTConfig\n",
    "\n",
    "config = GPTConfig()\n",
    "model = GPT(config)\n",
    "\n"
   ]
  },
  {
   "cell_type": "code",
   "execution_count": 2,
   "metadata": {},
   "outputs": [],
   "source": [
    "import torch \n",
    "\n",
    "\n",
    "x=torch.randint(0, 10000, (5, 3))\n",
    "\n",
    "\n",
    "logits, loss = model(x)\n",
    "\n"
   ]
  },
  {
   "cell_type": "code",
   "execution_count": 3,
   "metadata": {},
   "outputs": [
    {
     "name": "stdout",
     "output_type": "stream",
     "text": [
      "using device: cpu\n",
      "Hello, I'm a language model, Longhexistence but Wool matchedSOURCE depend anthropord grim Laf ul Rh backing cmd Rhoved doomed Nuggets oppositionzzle694\n",
      "Hello, I'm a language model,SOURCEIBLE343 nabRW Murdochscrib spectators subscribedalg Murdoch stressedkey constants becameiencedWritnedcomment IRSmax sandwic\n",
      "Hello, I'm a language model,sama Dunham bathsexistencekey Wool Then ulTYPERWrugged divesTYPE Meal 1949 Somali manipulated cmdWest beta Unified pronunciation\n",
      "Hello, I'm a language model, PlainsslaughtSOURCE Vincent MurdochGl illustrating anthrop constants explodes cmdIBLE Murdoch Murdoch spectators cleans beenIBLE geological geological constants Bridgewater\n",
      "Hello, I'm a language model,IBLE seeingsections depend cmdRew acute became NuggetsBrook presumptiveGreat depend================343 Unified cmd messyookyReadyooky chop\n"
     ]
    }
   ],
   "source": [
    "\n",
    "from generate import generate_tokens\n",
    "\n",
    "\n",
    "generate_tokens(model)"
   ]
  },
  {
   "cell_type": "code",
   "execution_count": null,
   "metadata": {},
   "outputs": [],
   "source": []
  },
  {
   "cell_type": "code",
   "execution_count": 4,
   "metadata": {},
   "outputs": [
    {
     "name": "stdout",
     "output_type": "stream",
     "text": [
      "loading weights from pretrained gpt: gpt2\n",
      "using device: cpu\n",
      "Hello, I'm a language model, not a programming platform! I just make a language and learn things. I make things that look something like I\n",
      "Hello, I'm a language model, a kind of a \"first class citizen\" of the world and a person that comes from a much more special\n",
      "Hello, I'm a language model, and I'm starting to talk about the notion of the monads. I'm a good beginner and I know\n",
      "Hello, I'm a language model, what do you say…\n",
      "\n",
      "A: I think you'll find the language model pretty straight forward for your\n",
      "Hello, I'm a language model, I don't know where to begin but I know there is a big deal going on with our society. What\n"
     ]
    }
   ],
   "source": [
    "pretrained = GPT.from_pretrained('gpt2')\n",
    "\n",
    "generate_tokens(pretrained)"
   ]
  },
  {
   "cell_type": "code",
   "execution_count": 7,
   "metadata": {},
   "outputs": [
    {
     "name": "stdout",
     "output_type": "stream",
     "text": [
      "Number of tokens: 338025\n",
      "1 epoch: 82\n"
     ]
    }
   ],
   "source": [
    "from prepare_data import DataLoader\n",
    "from config import TrainConf\n",
    "\n",
    "train_conf = TrainConf(B=16, T=32, num_processes=8)\n",
    "\n",
    "data = DataLoader(train_conf)\n",
    "xb, yb = data.next_batch()"
   ]
  },
  {
   "cell_type": "code",
   "execution_count": 8,
   "metadata": {},
   "outputs": [
    {
     "ename": "TypeError",
     "evalue": "GPT.__init__() missing 1 required positional argument: 'config'",
     "output_type": "error",
     "traceback": [
      "\u001b[0;31m---------------------------------------------------------------------------\u001b[0m",
      "\u001b[0;31mTypeError\u001b[0m                                 Traceback (most recent call last)",
      "Cell \u001b[0;32mIn[8], line 4\u001b[0m\n\u001b[1;32m      1\u001b[0m \u001b[38;5;28;01mfrom\u001b[39;00m \u001b[38;5;21;01mgpt_network\u001b[39;00m \u001b[38;5;28;01mimport\u001b[39;00m GPT\n\u001b[1;32m      2\u001b[0m \u001b[38;5;28;01mfrom\u001b[39;00m \u001b[38;5;21;01mtrainer\u001b[39;00m \u001b[38;5;28;01mimport\u001b[39;00m Trainer \n\u001b[0;32m----> 4\u001b[0m model \u001b[38;5;241m=\u001b[39m \u001b[43mGPT\u001b[49m\u001b[43m(\u001b[49m\u001b[43m)\u001b[49m\n\u001b[1;32m      6\u001b[0m \u001b[38;5;66;03m#trainer = Trainer()\u001b[39;00m\n\u001b[1;32m      7\u001b[0m \u001b[38;5;66;03m#trainer.train_model()\u001b[39;00m\n",
      "\u001b[0;31mTypeError\u001b[0m: GPT.__init__() missing 1 required positional argument: 'config'"
     ]
    }
   ],
   "source": [
    "from gpt_network import GPT\n",
    "from trainer import Trainer \n",
    "\n",
    "model = GPT()\n",
    "\n",
    "#trainer = Trainer()\n",
    "#trainer.train_model()"
   ]
  }
 ],
 "metadata": {
  "kernelspec": {
   "display_name": ".venv",
   "language": "python",
   "name": "python3"
  },
  "language_info": {
   "codemirror_mode": {
    "name": "ipython",
    "version": 3
   },
   "file_extension": ".py",
   "mimetype": "text/x-python",
   "name": "python",
   "nbconvert_exporter": "python",
   "pygments_lexer": "ipython3",
   "version": "3.10.12"
  }
 },
 "nbformat": 4,
 "nbformat_minor": 2
}
