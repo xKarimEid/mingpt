{
 "cells": [
  {
   "cell_type": "code",
   "execution_count": 1,
   "metadata": {},
   "outputs": [],
   "source": [
    "from gpt_network import GPT, GPTConfig\n",
    "\n",
    "config = GPTConfig()\n",
    "model = GPT(config)\n",
    "\n"
   ]
  },
  {
   "cell_type": "code",
   "execution_count": 3,
   "metadata": {},
   "outputs": [],
   "source": [
    "import torch \n",
    "\n",
    "\n",
    "x=torch.randint(0, 10000, (5, 3))\n",
    "\n",
    "\n",
    "logits, loss = model(x)\n",
    "\n"
   ]
  },
  {
   "cell_type": "code",
   "execution_count": 10,
   "metadata": {},
   "outputs": [
    {
     "name": "stdout",
     "output_type": "stream",
     "text": [
      "using device: cpu\n",
      "Hello, I'm a language model,VW compromises_____ coneTPfortunately turtles 122 Rankedilleraez Bing HTML Stevensoniltration089 roboticsTschel036rawdownloadcloneembedreportprintATCH\n",
      "Hello, I'm a language model,church officers incredible mood essential dad generatedslaught knockwavesoded Eval HTML ext Eyeiqu compos Protestersoxy Startup PCR Century\n",
      "Hello, I'm a language model,toggle appreci Wra explosions teaspoonastore monthsbrowseryicus concerningwww requestedights Dinosaur libertyasers transitional absorption Class pistols\n",
      "Hello, I'm a language model,Preview scamaffle Crimson Kirk Bactnc Warm fre V Rwanda OnePlusackle encounters noticed 154 professionalism mom Guid Winchester para pixel\n",
      "Hello, I'm a language model, dangers officers DEC qu implies Bucks Pacers Azerbai tails Farageoded mentionIntvernmentTransferINTNitspiritached pesky Renaissance Rouse\n"
     ]
    }
   ],
   "source": [
    "\n",
    "from generate import generate_tokens\n",
    "\n",
    "\n",
    "generate_tokens(model)"
   ]
  },
  {
   "cell_type": "code",
   "execution_count": null,
   "metadata": {},
   "outputs": [],
   "source": []
  },
  {
   "cell_type": "code",
   "execution_count": 15,
   "metadata": {},
   "outputs": [
    {
     "name": "stdout",
     "output_type": "stream",
     "text": [
      "loading weights from pretrained gpt: gpt2\n",
      "using device: cpu\n",
      "Hello, I'm a language model, no to, to in-3 Yume the can itself \"\n",
      "I and in which made, hands or\n",
      "Hello, I'm a language model, that: on the and not have: '25, then, and not in is not see() in \"\n",
      "Hello, I'm a language model, he The, was as is two and '25, with no, in the\n",
      "\n",
      "\n",
      "A the days\n",
      "Hello, I'm a language model, as with the law will\n",
      "\n",
      "\n",
      "\n",
      "\n",
      "\n",
      "\n",
      "\n",
      " on the F (un- the blackw\n",
      "Hello, I'm a language model, you, such v the is\n",
      "Links was the [per 1995 to their in similar, even, it a\n"
     ]
    }
   ],
   "source": [
    "pretrained = GPT.from_pretrained('gpt2')\n",
    "\n",
    "generate_tokens(pretrained)"
   ]
  }
 ],
 "metadata": {
  "kernelspec": {
   "display_name": ".venv",
   "language": "python",
   "name": "python3"
  },
  "language_info": {
   "codemirror_mode": {
    "name": "ipython",
    "version": 3
   },
   "file_extension": ".py",
   "mimetype": "text/x-python",
   "name": "python",
   "nbconvert_exporter": "python",
   "pygments_lexer": "ipython3",
   "version": "3.10.12"
  }
 },
 "nbformat": 4,
 "nbformat_minor": 2
}
